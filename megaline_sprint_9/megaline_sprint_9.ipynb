{
 "cells": [
  {
   "cell_type": "markdown",
   "metadata": {},
   "source": [
    "# MEGALINE"
   ]
  },
  {
   "cell_type": "markdown",
   "metadata": {},
   "source": [
    "## Descripción"
   ]
  },
  {
   "cell_type": "markdown",
   "metadata": {},
   "source": [
    "La compañía móvil Megaline no está satisfecha al ver que muchos de sus clientes utilizan planes heredados. \n",
    "\n",
    "Quieren desarrollar un modelo que pueda analizar el comportamiento de los clientes y recomendar uno de los nuevos planes de Megaline: Smart o Ultra.\n",
    "\n",
    "Como Data Scientist, me han dado acceso a los datos de comportamiento de los suscriptores que ya se han cambiado a los planes nuevos con la finalidad de crear un modelo que me permita elegir el plan correcto. \n",
    "\n",
    "Desarrollaré un modelo con la mayor exactitud posible. Para este proyecto, el umbral de exactitud será del 0.75"
   ]
  },
  {
   "cell_type": "markdown",
   "metadata": {},
   "source": [
    "## Objetivo"
   ]
  },
  {
   "cell_type": "markdown",
   "metadata": {},
   "source": [
    "Desarrollar un modelo de clasificación con un umbral de exactitud de 0.75 que sirva para analizar el comportamiento de los clientes y recomendar alguno de los planes que Megaline ofrece actualmente."
   ]
  },
  {
   "cell_type": "markdown",
   "metadata": {},
   "source": [
    "## Carga de datos y librerías"
   ]
  },
  {
   "cell_type": "code",
   "execution_count": 1393,
   "metadata": {},
   "outputs": [],
   "source": [
    "# Cargaré todas las librerías que necesito.\n",
    "import pandas as pd\n",
    "import numpy as np\n",
    "from matplotlib import pyplot as plt\n",
    "import seaborn as sns\n",
    "from sklearn.model_selection import train_test_split\n",
    "from sklearn.tree import DecisionTreeClassifier\n",
    "from sklearn.metrics import accuracy_score\n",
    "from sklearn.ensemble import RandomForestClassifier\n",
    "from sklearn.linear_model import LogisticRegression\n",
    "from sklearn.metrics import classification_report, confusion_matrix\n",
    "\n"
   ]
  },
  {
   "cell_type": "code",
   "execution_count": 1394,
   "metadata": {},
   "outputs": [
    {
     "data": {
      "text/html": [
       "<div>\n",
       "<style scoped>\n",
       "    .dataframe tbody tr th:only-of-type {\n",
       "        vertical-align: middle;\n",
       "    }\n",
       "\n",
       "    .dataframe tbody tr th {\n",
       "        vertical-align: top;\n",
       "    }\n",
       "\n",
       "    .dataframe thead th {\n",
       "        text-align: right;\n",
       "    }\n",
       "</style>\n",
       "<table border=\"1\" class=\"dataframe\">\n",
       "  <thead>\n",
       "    <tr style=\"text-align: right;\">\n",
       "      <th></th>\n",
       "      <th>calls</th>\n",
       "      <th>minutes</th>\n",
       "      <th>messages</th>\n",
       "      <th>mb_used</th>\n",
       "      <th>is_ultra</th>\n",
       "    </tr>\n",
       "  </thead>\n",
       "  <tbody>\n",
       "    <tr>\n",
       "      <th>0</th>\n",
       "      <td>40.0</td>\n",
       "      <td>311.90</td>\n",
       "      <td>83.0</td>\n",
       "      <td>19915.42</td>\n",
       "      <td>0</td>\n",
       "    </tr>\n",
       "    <tr>\n",
       "      <th>1</th>\n",
       "      <td>85.0</td>\n",
       "      <td>516.75</td>\n",
       "      <td>56.0</td>\n",
       "      <td>22696.96</td>\n",
       "      <td>0</td>\n",
       "    </tr>\n",
       "    <tr>\n",
       "      <th>2</th>\n",
       "      <td>77.0</td>\n",
       "      <td>467.66</td>\n",
       "      <td>86.0</td>\n",
       "      <td>21060.45</td>\n",
       "      <td>0</td>\n",
       "    </tr>\n",
       "    <tr>\n",
       "      <th>3</th>\n",
       "      <td>106.0</td>\n",
       "      <td>745.53</td>\n",
       "      <td>81.0</td>\n",
       "      <td>8437.39</td>\n",
       "      <td>1</td>\n",
       "    </tr>\n",
       "    <tr>\n",
       "      <th>4</th>\n",
       "      <td>66.0</td>\n",
       "      <td>418.74</td>\n",
       "      <td>1.0</td>\n",
       "      <td>14502.75</td>\n",
       "      <td>0</td>\n",
       "    </tr>\n",
       "    <tr>\n",
       "      <th>...</th>\n",
       "      <td>...</td>\n",
       "      <td>...</td>\n",
       "      <td>...</td>\n",
       "      <td>...</td>\n",
       "      <td>...</td>\n",
       "    </tr>\n",
       "    <tr>\n",
       "      <th>3209</th>\n",
       "      <td>122.0</td>\n",
       "      <td>910.98</td>\n",
       "      <td>20.0</td>\n",
       "      <td>35124.90</td>\n",
       "      <td>1</td>\n",
       "    </tr>\n",
       "    <tr>\n",
       "      <th>3210</th>\n",
       "      <td>25.0</td>\n",
       "      <td>190.36</td>\n",
       "      <td>0.0</td>\n",
       "      <td>3275.61</td>\n",
       "      <td>0</td>\n",
       "    </tr>\n",
       "    <tr>\n",
       "      <th>3211</th>\n",
       "      <td>97.0</td>\n",
       "      <td>634.44</td>\n",
       "      <td>70.0</td>\n",
       "      <td>13974.06</td>\n",
       "      <td>0</td>\n",
       "    </tr>\n",
       "    <tr>\n",
       "      <th>3212</th>\n",
       "      <td>64.0</td>\n",
       "      <td>462.32</td>\n",
       "      <td>90.0</td>\n",
       "      <td>31239.78</td>\n",
       "      <td>0</td>\n",
       "    </tr>\n",
       "    <tr>\n",
       "      <th>3213</th>\n",
       "      <td>80.0</td>\n",
       "      <td>566.09</td>\n",
       "      <td>6.0</td>\n",
       "      <td>29480.52</td>\n",
       "      <td>1</td>\n",
       "    </tr>\n",
       "  </tbody>\n",
       "</table>\n",
       "<p>3214 rows × 5 columns</p>\n",
       "</div>"
      ],
      "text/plain": [
       "      calls  minutes  messages   mb_used  is_ultra\n",
       "0      40.0   311.90      83.0  19915.42         0\n",
       "1      85.0   516.75      56.0  22696.96         0\n",
       "2      77.0   467.66      86.0  21060.45         0\n",
       "3     106.0   745.53      81.0   8437.39         1\n",
       "4      66.0   418.74       1.0  14502.75         0\n",
       "...     ...      ...       ...       ...       ...\n",
       "3209  122.0   910.98      20.0  35124.90         1\n",
       "3210   25.0   190.36       0.0   3275.61         0\n",
       "3211   97.0   634.44      70.0  13974.06         0\n",
       "3212   64.0   462.32      90.0  31239.78         0\n",
       "3213   80.0   566.09       6.0  29480.52         1\n",
       "\n",
       "[3214 rows x 5 columns]"
      ]
     },
     "execution_count": 1394,
     "metadata": {},
     "output_type": "execute_result"
    }
   ],
   "source": [
    "# Cargaré los datos del nuevo dataset.\n",
    "users_behavior = pd.read_csv('/Users/brisna/github_projects/tripleten/megaline_sprint_9/users_behavior.csv')\n",
    "users_behavior"
   ]
  },
  {
   "cell_type": "markdown",
   "metadata": {},
   "source": [
    "## Preparación de datos"
   ]
  },
  {
   "cell_type": "code",
   "execution_count": 1395,
   "metadata": {},
   "outputs": [
    {
     "name": "stdout",
     "output_type": "stream",
     "text": [
      "<class 'pandas.core.frame.DataFrame'>\n",
      "RangeIndex: 3214 entries, 0 to 3213\n",
      "Data columns (total 5 columns):\n",
      " #   Column    Non-Null Count  Dtype  \n",
      "---  ------    --------------  -----  \n",
      " 0   calls     3214 non-null   float64\n",
      " 1   minutes   3214 non-null   float64\n",
      " 2   messages  3214 non-null   float64\n",
      " 3   mb_used   3214 non-null   float64\n",
      " 4   is_ultra  3214 non-null   int64  \n",
      "dtypes: float64(4), int64(1)\n",
      "memory usage: 125.7 KB\n"
     ]
    }
   ],
   "source": [
    "# Revisaré el tipo de datos que tengo y los posibles datos ausentes.\n",
    "users_behavior.info()"
   ]
  },
  {
   "cell_type": "code",
   "execution_count": 1396,
   "metadata": {},
   "outputs": [
    {
     "data": {
      "text/html": [
       "<div>\n",
       "<style scoped>\n",
       "    .dataframe tbody tr th:only-of-type {\n",
       "        vertical-align: middle;\n",
       "    }\n",
       "\n",
       "    .dataframe tbody tr th {\n",
       "        vertical-align: top;\n",
       "    }\n",
       "\n",
       "    .dataframe thead th {\n",
       "        text-align: right;\n",
       "    }\n",
       "</style>\n",
       "<table border=\"1\" class=\"dataframe\">\n",
       "  <thead>\n",
       "    <tr style=\"text-align: right;\">\n",
       "      <th></th>\n",
       "      <th>calls</th>\n",
       "      <th>minutes</th>\n",
       "      <th>messages</th>\n",
       "      <th>mb_used</th>\n",
       "      <th>is_ultra</th>\n",
       "    </tr>\n",
       "  </thead>\n",
       "  <tbody>\n",
       "    <tr>\n",
       "      <th>count</th>\n",
       "      <td>3214.000000</td>\n",
       "      <td>3214.000000</td>\n",
       "      <td>3214.000000</td>\n",
       "      <td>3214.000000</td>\n",
       "      <td>3214.000000</td>\n",
       "    </tr>\n",
       "    <tr>\n",
       "      <th>mean</th>\n",
       "      <td>63.038892</td>\n",
       "      <td>438.208787</td>\n",
       "      <td>38.281269</td>\n",
       "      <td>17207.673836</td>\n",
       "      <td>0.306472</td>\n",
       "    </tr>\n",
       "    <tr>\n",
       "      <th>std</th>\n",
       "      <td>33.236368</td>\n",
       "      <td>234.569872</td>\n",
       "      <td>36.148326</td>\n",
       "      <td>7570.968246</td>\n",
       "      <td>0.461100</td>\n",
       "    </tr>\n",
       "    <tr>\n",
       "      <th>min</th>\n",
       "      <td>0.000000</td>\n",
       "      <td>0.000000</td>\n",
       "      <td>0.000000</td>\n",
       "      <td>0.000000</td>\n",
       "      <td>0.000000</td>\n",
       "    </tr>\n",
       "    <tr>\n",
       "      <th>25%</th>\n",
       "      <td>40.000000</td>\n",
       "      <td>274.575000</td>\n",
       "      <td>9.000000</td>\n",
       "      <td>12491.902500</td>\n",
       "      <td>0.000000</td>\n",
       "    </tr>\n",
       "    <tr>\n",
       "      <th>50%</th>\n",
       "      <td>62.000000</td>\n",
       "      <td>430.600000</td>\n",
       "      <td>30.000000</td>\n",
       "      <td>16943.235000</td>\n",
       "      <td>0.000000</td>\n",
       "    </tr>\n",
       "    <tr>\n",
       "      <th>75%</th>\n",
       "      <td>82.000000</td>\n",
       "      <td>571.927500</td>\n",
       "      <td>57.000000</td>\n",
       "      <td>21424.700000</td>\n",
       "      <td>1.000000</td>\n",
       "    </tr>\n",
       "    <tr>\n",
       "      <th>max</th>\n",
       "      <td>244.000000</td>\n",
       "      <td>1632.060000</td>\n",
       "      <td>224.000000</td>\n",
       "      <td>49745.730000</td>\n",
       "      <td>1.000000</td>\n",
       "    </tr>\n",
       "  </tbody>\n",
       "</table>\n",
       "</div>"
      ],
      "text/plain": [
       "             calls      minutes     messages       mb_used     is_ultra\n",
       "count  3214.000000  3214.000000  3214.000000   3214.000000  3214.000000\n",
       "mean     63.038892   438.208787    38.281269  17207.673836     0.306472\n",
       "std      33.236368   234.569872    36.148326   7570.968246     0.461100\n",
       "min       0.000000     0.000000     0.000000      0.000000     0.000000\n",
       "25%      40.000000   274.575000     9.000000  12491.902500     0.000000\n",
       "50%      62.000000   430.600000    30.000000  16943.235000     0.000000\n",
       "75%      82.000000   571.927500    57.000000  21424.700000     1.000000\n",
       "max     244.000000  1632.060000   224.000000  49745.730000     1.000000"
      ]
     },
     "execution_count": 1396,
     "metadata": {},
     "output_type": "execute_result"
    }
   ],
   "source": [
    "# Veré la descripción de cada columna.\n",
    "users_behavior.describe()"
   ]
  },
  {
   "cell_type": "code",
   "execution_count": 1397,
   "metadata": {},
   "outputs": [
    {
     "data": {
      "text/plain": [
       "Index(['calls', 'minutes', 'messages', 'mb_used', 'is_ultra'], dtype='object')"
      ]
     },
     "execution_count": 1397,
     "metadata": {},
     "output_type": "execute_result"
    }
   ],
   "source": [
    "users_behavior.columns"
   ]
  },
  {
   "cell_type": "markdown",
   "metadata": {},
   "source": [
    "La descripción de los datos es la siguiente:\n",
    "\n",
    "    * сalls — número de llamadas\n",
    "    * minutes — duración total de la llamada en minutos\n",
    "    * messages — número de mensajes de texto\n",
    "    * mb_used — Tráfico de Internet utilizado en MB\n",
    "    * is_ultra — plan para el mes actual (Ultra - 1, Smart - 0)\n"
   ]
  },
  {
   "cell_type": "markdown",
   "metadata": {},
   "source": [
    "NOTAS:\n",
    "\n",
    "Puerdo observar que:\n",
    "\n",
    "1.  Hay 3,214 filas.\n",
    "   \n",
    "2.  En promedio, los usuarios:\n",
    "   * Realizaron 63 llamadas.\n",
    "   * Utilizaron 438.21 minutos.\n",
    "   * Enviaron 38 mensajes.\n",
    "   * Usaron 17,207.67 MB\n",
    "   * Usan el plan Ultra en un 30.65%\n",
    "\n",
    "3. Hay valores mínimos de cero en varias columnas así que revisaré esto.\n",
    "   \n",
    "4. Debo cambiar los tipos de datos de las columnas 'calls' y 'messages'.\n",
    "   \n",
    "5. Crearé una nueva la columna haciendo la conversión de 'mb_used' a GB."
   ]
  },
  {
   "cell_type": "code",
   "execution_count": 1398,
   "metadata": {},
   "outputs": [
    {
     "data": {
      "text/plain": [
       "array([ 40.,  85.,  77., 106.,  66.,  58.,  57.,  15.,   7.,  90.,  82.,\n",
       "        45.,  51.,  56., 108.,   6.,   2.,  26.,  79.,  49.,  93.,  48.,\n",
       "        11.,  53.,  81., 154.,  37.,  50.,  41.,  10.,  71.,  65., 110.,\n",
       "       120.,  76.,  64.,  23.,  34.,  98.,  35.,   5.,  70., 124., 129.,\n",
       "        67.,   0.,  13.,  68.,  91., 121., 114., 125.,  80.,  33., 138.,\n",
       "        84.,  78.,  69.,  63.,  72.,  73.,   1.,  43., 118.,  74.,  83.,\n",
       "       141., 117.,  54., 101.,  29.,   3., 107.,  55.,  47., 158.,  87.,\n",
       "        28.,  59.,  52.,  44.,  17., 111., 109.,  14.,  92.,  94.,  46.,\n",
       "       133.,  75.,  38.,  60., 100.,  31.,  61.,  89.,  27., 196.,  24.,\n",
       "        99.,  62., 162., 116., 123.,  18.,  21.,  12.,  86.,  32.,  95.,\n",
       "        39.,  30.,  25.,  36.,  42., 113.,   9., 183., 156., 127.,  96.,\n",
       "        16.,   4., 102.,  97.,  20., 104., 144.,  19., 132., 131., 136.,\n",
       "        88., 115., 176., 160., 164., 169.,  22., 105., 152., 177., 161.,\n",
       "       112.,   8., 126., 178., 103., 130., 198., 119., 137., 150., 122.,\n",
       "       146., 151., 157., 203., 143., 148., 128., 185., 167., 181., 184.,\n",
       "       171., 153., 140., 159., 188., 134., 189., 182., 173., 172., 145.,\n",
       "       180., 155., 174., 244., 165., 163., 142., 168.])"
      ]
     },
     "execution_count": 1398,
     "metadata": {},
     "output_type": "execute_result"
    }
   ],
   "source": [
    "# Revisaré los valores únicos de la columna 'calls'.\n",
    "users_behavior['calls'].unique()"
   ]
  },
  {
   "cell_type": "code",
   "execution_count": 1399,
   "metadata": {},
   "outputs": [
    {
     "data": {
      "text/plain": [
       "array([ 83.,  56.,  86.,  81.,   1.,  21.,  20.,   6.,   3.,  38.,  13.,\n",
       "        61.,  16.,   0.,   4.,  90.,  31.,  97.,  66.,  19.,  30.,  52.,\n",
       "        48.,  44.,  27.,   7.,   9.,  43.,  33.,  34.,  10., 106.,  65.,\n",
       "        17.,  11.,  29.,  75.,  47.,  49.,  64., 144.,  99.,  46.,  24.,\n",
       "        22.,  55.,   8.,  93., 153.,  37.,  69.,  18.,  78.,  42.,  82.,\n",
       "        62.,  40.,  57.,  60.,  58., 123.,  26.,  51., 109.,   5.,  39.,\n",
       "        35.,  79.,  12., 182.,  36., 126.,  59., 102.,  14., 133., 110.,\n",
       "        54.,  72., 103.,  23., 108.,  92.,  73.,  15.,  25.,  91., 113.,\n",
       "       105.,  85., 191.,  32.,  50., 145.,  41., 150.,  53., 171., 176.,\n",
       "        68.,  28.,  76.,  71., 118.,  63., 132.,  84.,   2.,  67., 111.,\n",
       "       101.,  96., 112.,  95.,  89., 143.,  45.,  70.,  77.,  94., 137.,\n",
       "       107.,  98., 141., 124., 129., 114.,  87.,  80., 117., 138., 142.,\n",
       "       134., 128., 180., 115., 154.,  74., 185., 121., 127., 116.,  88.,\n",
       "       140., 201., 100., 169., 155., 135., 151., 139., 131., 188., 157.,\n",
       "       148., 104., 224., 158., 211., 120., 149., 190., 173., 172., 146.,\n",
       "       162., 119., 178., 223., 130., 122., 159., 181., 125., 152., 197.,\n",
       "       136., 165., 183., 170.])"
      ]
     },
     "execution_count": 1399,
     "metadata": {},
     "output_type": "execute_result"
    }
   ],
   "source": [
    "# Revisaré los valores únicos de la columna 'messages'.\n",
    "users_behavior['messages'].unique()"
   ]
  },
  {
   "cell_type": "code",
   "execution_count": 1400,
   "metadata": {},
   "outputs": [
    {
     "data": {
      "text/html": [
       "<div>\n",
       "<style scoped>\n",
       "    .dataframe tbody tr th:only-of-type {\n",
       "        vertical-align: middle;\n",
       "    }\n",
       "\n",
       "    .dataframe tbody tr th {\n",
       "        vertical-align: top;\n",
       "    }\n",
       "\n",
       "    .dataframe thead th {\n",
       "        text-align: right;\n",
       "    }\n",
       "</style>\n",
       "<table border=\"1\" class=\"dataframe\">\n",
       "  <thead>\n",
       "    <tr style=\"text-align: right;\">\n",
       "      <th></th>\n",
       "      <th>calls</th>\n",
       "      <th>minutes</th>\n",
       "      <th>messages</th>\n",
       "      <th>mb_used</th>\n",
       "      <th>is_ultra</th>\n",
       "    </tr>\n",
       "  </thead>\n",
       "  <tbody>\n",
       "  </tbody>\n",
       "</table>\n",
       "</div>"
      ],
      "text/plain": [
       "Empty DataFrame\n",
       "Columns: [calls, minutes, messages, mb_used, is_ultra]\n",
       "Index: []"
      ]
     },
     "execution_count": 1400,
     "metadata": {},
     "output_type": "execute_result"
    }
   ],
   "source": [
    "# Revisaré que no haya filas con valor cero en las columnas de consumo ('calls, 'minutes', 'messages' y 'mb_used').\n",
    "filtered_df = users_behavior[(users_behavior['calls'] == 0) & (users_behavior['minutes'] == 0) & (users_behavior['messages'] == 0) & (users_behavior['mb_used'] == 0)]\n",
    "filtered_df"
   ]
  },
  {
   "cell_type": "code",
   "execution_count": 1401,
   "metadata": {},
   "outputs": [],
   "source": [
    "# Convertiré 'calls' y 'messages' a tipo de datos 'int'.\n",
    "users_behavior['calls'] = users_behavior['calls'].astype(int)\n",
    "users_behavior['messages'] = users_behavior['messages'].astype(int)"
   ]
  },
  {
   "cell_type": "code",
   "execution_count": 1402,
   "metadata": {},
   "outputs": [
    {
     "data": {
      "text/html": [
       "<div>\n",
       "<style scoped>\n",
       "    .dataframe tbody tr th:only-of-type {\n",
       "        vertical-align: middle;\n",
       "    }\n",
       "\n",
       "    .dataframe tbody tr th {\n",
       "        vertical-align: top;\n",
       "    }\n",
       "\n",
       "    .dataframe thead th {\n",
       "        text-align: right;\n",
       "    }\n",
       "</style>\n",
       "<table border=\"1\" class=\"dataframe\">\n",
       "  <thead>\n",
       "    <tr style=\"text-align: right;\">\n",
       "      <th></th>\n",
       "      <th>calls</th>\n",
       "      <th>minutes</th>\n",
       "      <th>messages</th>\n",
       "      <th>mb_used</th>\n",
       "      <th>is_ultra</th>\n",
       "      <th>gb_used</th>\n",
       "    </tr>\n",
       "  </thead>\n",
       "  <tbody>\n",
       "    <tr>\n",
       "      <th>0</th>\n",
       "      <td>40</td>\n",
       "      <td>311.90</td>\n",
       "      <td>83</td>\n",
       "      <td>19915.42</td>\n",
       "      <td>0</td>\n",
       "      <td>19.45</td>\n",
       "    </tr>\n",
       "    <tr>\n",
       "      <th>1</th>\n",
       "      <td>85</td>\n",
       "      <td>516.75</td>\n",
       "      <td>56</td>\n",
       "      <td>22696.96</td>\n",
       "      <td>0</td>\n",
       "      <td>22.16</td>\n",
       "    </tr>\n",
       "    <tr>\n",
       "      <th>2</th>\n",
       "      <td>77</td>\n",
       "      <td>467.66</td>\n",
       "      <td>86</td>\n",
       "      <td>21060.45</td>\n",
       "      <td>0</td>\n",
       "      <td>20.57</td>\n",
       "    </tr>\n",
       "    <tr>\n",
       "      <th>3</th>\n",
       "      <td>106</td>\n",
       "      <td>745.53</td>\n",
       "      <td>81</td>\n",
       "      <td>8437.39</td>\n",
       "      <td>1</td>\n",
       "      <td>8.24</td>\n",
       "    </tr>\n",
       "    <tr>\n",
       "      <th>4</th>\n",
       "      <td>66</td>\n",
       "      <td>418.74</td>\n",
       "      <td>1</td>\n",
       "      <td>14502.75</td>\n",
       "      <td>0</td>\n",
       "      <td>14.16</td>\n",
       "    </tr>\n",
       "    <tr>\n",
       "      <th>...</th>\n",
       "      <td>...</td>\n",
       "      <td>...</td>\n",
       "      <td>...</td>\n",
       "      <td>...</td>\n",
       "      <td>...</td>\n",
       "      <td>...</td>\n",
       "    </tr>\n",
       "    <tr>\n",
       "      <th>3209</th>\n",
       "      <td>122</td>\n",
       "      <td>910.98</td>\n",
       "      <td>20</td>\n",
       "      <td>35124.90</td>\n",
       "      <td>1</td>\n",
       "      <td>34.30</td>\n",
       "    </tr>\n",
       "    <tr>\n",
       "      <th>3210</th>\n",
       "      <td>25</td>\n",
       "      <td>190.36</td>\n",
       "      <td>0</td>\n",
       "      <td>3275.61</td>\n",
       "      <td>0</td>\n",
       "      <td>3.20</td>\n",
       "    </tr>\n",
       "    <tr>\n",
       "      <th>3211</th>\n",
       "      <td>97</td>\n",
       "      <td>634.44</td>\n",
       "      <td>70</td>\n",
       "      <td>13974.06</td>\n",
       "      <td>0</td>\n",
       "      <td>13.65</td>\n",
       "    </tr>\n",
       "    <tr>\n",
       "      <th>3212</th>\n",
       "      <td>64</td>\n",
       "      <td>462.32</td>\n",
       "      <td>90</td>\n",
       "      <td>31239.78</td>\n",
       "      <td>0</td>\n",
       "      <td>30.51</td>\n",
       "    </tr>\n",
       "    <tr>\n",
       "      <th>3213</th>\n",
       "      <td>80</td>\n",
       "      <td>566.09</td>\n",
       "      <td>6</td>\n",
       "      <td>29480.52</td>\n",
       "      <td>1</td>\n",
       "      <td>28.79</td>\n",
       "    </tr>\n",
       "  </tbody>\n",
       "</table>\n",
       "<p>3214 rows × 6 columns</p>\n",
       "</div>"
      ],
      "text/plain": [
       "      calls  minutes  messages   mb_used  is_ultra  gb_used\n",
       "0        40   311.90        83  19915.42         0    19.45\n",
       "1        85   516.75        56  22696.96         0    22.16\n",
       "2        77   467.66        86  21060.45         0    20.57\n",
       "3       106   745.53        81   8437.39         1     8.24\n",
       "4        66   418.74         1  14502.75         0    14.16\n",
       "...     ...      ...       ...       ...       ...      ...\n",
       "3209    122   910.98        20  35124.90         1    34.30\n",
       "3210     25   190.36         0   3275.61         0     3.20\n",
       "3211     97   634.44        70  13974.06         0    13.65\n",
       "3212     64   462.32        90  31239.78         0    30.51\n",
       "3213     80   566.09         6  29480.52         1    28.79\n",
       "\n",
       "[3214 rows x 6 columns]"
      ]
     },
     "execution_count": 1402,
     "metadata": {},
     "output_type": "execute_result"
    }
   ],
   "source": [
    "# Crearé una nueva columna con la conversión de 'mb_used' a GB.\n",
    "users_behavior['gb_used'] = (users_behavior['mb_used']/1024).round(2)\n",
    "users_behavior"
   ]
  },
  {
   "cell_type": "code",
   "execution_count": 1403,
   "metadata": {},
   "outputs": [
    {
     "data": {
      "text/html": [
       "<div>\n",
       "<style scoped>\n",
       "    .dataframe tbody tr th:only-of-type {\n",
       "        vertical-align: middle;\n",
       "    }\n",
       "\n",
       "    .dataframe tbody tr th {\n",
       "        vertical-align: top;\n",
       "    }\n",
       "\n",
       "    .dataframe thead th {\n",
       "        text-align: right;\n",
       "    }\n",
       "</style>\n",
       "<table border=\"1\" class=\"dataframe\">\n",
       "  <thead>\n",
       "    <tr style=\"text-align: right;\">\n",
       "      <th></th>\n",
       "      <th>calls</th>\n",
       "      <th>minutes</th>\n",
       "      <th>messages</th>\n",
       "      <th>mb_used</th>\n",
       "      <th>is_ultra</th>\n",
       "      <th>gb_used</th>\n",
       "    </tr>\n",
       "  </thead>\n",
       "  <tbody>\n",
       "  </tbody>\n",
       "</table>\n",
       "</div>"
      ],
      "text/plain": [
       "Empty DataFrame\n",
       "Columns: [calls, minutes, messages, mb_used, is_ultra, gb_used]\n",
       "Index: []"
      ]
     },
     "execution_count": 1403,
     "metadata": {},
     "output_type": "execute_result"
    }
   ],
   "source": [
    "# Revisare los duplicados.\n",
    "users_behavior[users_behavior.duplicated()]"
   ]
  },
  {
   "cell_type": "markdown",
   "metadata": {},
   "source": [
    "## Modelos de clasificación"
   ]
  },
  {
   "cell_type": "code",
   "execution_count": 1404,
   "metadata": {},
   "outputs": [],
   "source": [
    "#  Dividiré los datos para entrenar el modelo. Un 20% será para entrenamiento y un 25% para validación. \n",
    "train_complete, test = train_test_split(users_behavior, test_size = 0.2,random_state=12345)\n",
    "train, validation = train_test_split(train_complete, test_size = 0.25,random_state=12345)"
   ]
  },
  {
   "cell_type": "code",
   "execution_count": 1405,
   "metadata": {},
   "outputs": [],
   "source": [
    "# Declararé variables para las características y para la característica objetivo.\n",
    "features_train = train.drop(['is_ultra','mb_used'], axis=1)\n",
    "target_train = train['is_ultra']\n",
    "\n",
    "features_test = test.drop(['is_ultra','mb_used'], axis=1)\n",
    "target_test = test['is_ultra']\n",
    "\n",
    "features_valid = validation.drop(['is_ultra','mb_used'], axis=1)\n",
    "target_valid = validation['is_ultra']"
   ]
  },
  {
   "cell_type": "markdown",
   "metadata": {},
   "source": [
    "### Decision Tree Classifier"
   ]
  },
  {
   "cell_type": "code",
   "execution_count": 1406,
   "metadata": {},
   "outputs": [
    {
     "name": "stdout",
     "output_type": "stream",
     "text": [
      "Max_depth igual a 1\n",
      "Conjunto de entrenamiento: 0.758298755186722\n",
      "Conjunto de prueba: 0.7480559875583204\n",
      "Conjunto de validación: 0.7402799377916018\n",
      "\n",
      "Max_depth igual a 2\n",
      "Conjunto de entrenamiento: 0.79201244813278\n",
      "Conjunto de prueba: 0.7838258164852255\n",
      "Conjunto de validación: 0.7589424572317263\n",
      "\n",
      "Max_depth igual a 3\n",
      "Conjunto de entrenamiento: 0.8117219917012448\n",
      "Conjunto de prueba: 0.7869362363919129\n",
      "Conjunto de validación: 0.7667185069984448\n",
      "\n",
      "Max_depth igual a 4\n",
      "Conjunto de entrenamiento: 0.8205394190871369\n",
      "Conjunto de prueba: 0.7869362363919129\n",
      "Conjunto de validación: 0.7651632970451011\n",
      "\n",
      "Max_depth igual a 5\n",
      "Conjunto de entrenamiento: 0.8272821576763485\n",
      "Conjunto de prueba: 0.7884914463452566\n",
      "Conjunto de validación: 0.7589424572317263\n",
      "\n",
      "Max_depth igual a 6\n",
      "Conjunto de entrenamiento: 0.8335062240663901\n",
      "Conjunto de prueba: 0.7791601866251944\n",
      "Conjunto de validación: 0.7573872472783826\n",
      "\n",
      "Max_depth igual a 7\n",
      "Conjunto de entrenamiento: 0.8506224066390041\n",
      "Conjunto de prueba: 0.7884914463452566\n",
      "Conjunto de validación: 0.776049766718507\n",
      "\n",
      "Max_depth igual a 8\n",
      "Conjunto de entrenamiento: 0.8661825726141079\n",
      "Conjunto de prueba: 0.7807153965785381\n",
      "Conjunto de validación: 0.7667185069984448\n",
      "\n",
      "Max_depth igual a 9\n",
      "Conjunto de entrenamiento: 0.875\n",
      "Conjunto de prueba: 0.7776049766718507\n",
      "Conjunto de validación: 0.7620528771384136\n",
      "\n",
      "Max_depth igual a 10\n",
      "Conjunto de entrenamiento: 0.8905601659751037\n",
      "Conjunto de prueba: 0.7729393468118196\n",
      "Conjunto de validación: 0.7698289269051322\n",
      "\n",
      "Mejor max_depth: 7, con mejor score en validación: 0.776049766718507\n"
     ]
    }
   ],
   "source": [
    "# Crearé un bucle para obtener una profundidad de 1 a 10.\n",
    "best_score_tree = 0\n",
    "best_depth = 0\n",
    "\n",
    "for depth in range(1, 11):\n",
    "    model_1_decision_tree = DecisionTreeClassifier(random_state=12345, max_depth=depth)\n",
    "    model_1_decision_tree.fit(features_train, target_train)\n",
    "    \n",
    "    train_score_tree = model_1_decision_tree.score(features_train, target_train)\n",
    "    test_score_tree = model_1_decision_tree.score(features_test, target_test)\n",
    "    validation_score_tree = model_1_decision_tree.score(features_valid, target_valid)\n",
    "    \n",
    "    print(\"Max_depth igual a\", depth)\n",
    "    print(\"Conjunto de entrenamiento:\", train_score_tree)\n",
    "    print(\"Conjunto de prueba:\", test_score_tree)\n",
    "    print(\"Conjunto de validación:\", validation_score_tree)\n",
    "    print()\n",
    "    \n",
    "    if validation_score_tree > best_score_tree:\n",
    "        best_score_tree = validation_score_tree\n",
    "        best_depth = depth\n",
    "\n",
    "print(f\"Mejor max_depth: {best_depth}, con mejor score en validación: {best_score_tree}\")"
   ]
  },
  {
   "cell_type": "markdown",
   "metadata": {},
   "source": [
    "HALLAZGOS:\n",
    "\n",
    "Para este modelo, la profundidad del árbol de decisión óptima es de 7:\n",
    "\n",
    "* Conjunto de entrenamiento: 0.7884914463452566\n",
    "\n",
    "* Conjunto de validación: 0.776049766718507"
   ]
  },
  {
   "cell_type": "markdown",
   "metadata": {},
   "source": [
    "### Random Forest"
   ]
  },
  {
   "cell_type": "code",
   "execution_count": 1407,
   "metadata": {},
   "outputs": [
    {
     "name": "stdout",
     "output_type": "stream",
     "text": [
      "n_estimators igual a 1\n",
      "Conjunto de entrenamiento: 0.9045643153526971\n",
      "Conjunto de prueba: 0.7247278382581649\n",
      "Conjunto de validación: 0.7340590979782271\n",
      "\n",
      "n_estimators igual a 2\n",
      "Conjunto de entrenamiento: 0.9123443983402489\n",
      "Conjunto de prueba: 0.7558320373250389\n",
      "Conjunto de validación: 0.7636080870917574\n",
      "\n",
      "n_estimators igual a 3\n",
      "Conjunto de entrenamiento: 0.9564315352697096\n",
      "Conjunto de prueba: 0.7744945567651633\n",
      "Conjunto de validación: 0.7651632970451011\n",
      "\n",
      "n_estimators igual a 4\n",
      "Conjunto de entrenamiento: 0.9491701244813278\n",
      "Conjunto de prueba: 0.7589424572317263\n",
      "Conjunto de validación: 0.7729393468118196\n",
      "\n",
      "n_estimators igual a 5\n",
      "Conjunto de entrenamiento: 0.970954356846473\n",
      "Conjunto de prueba: 0.7651632970451011\n",
      "Conjunto de validación: 0.7713841368584758\n",
      "\n",
      "n_estimators igual a 6\n",
      "Conjunto de entrenamiento: 0.9657676348547718\n",
      "Conjunto de prueba: 0.7636080870917574\n",
      "Conjunto de validación: 0.7744945567651633\n",
      "\n",
      "n_estimators igual a 7\n",
      "Conjunto de entrenamiento: 0.979253112033195\n",
      "Conjunto de prueba: 0.7511664074650077\n",
      "Conjunto de validación: 0.7729393468118196\n",
      "\n",
      "n_estimators igual a 8\n",
      "Conjunto de entrenamiento: 0.9704356846473029\n",
      "Conjunto de prueba: 0.7698289269051322\n",
      "Conjunto de validación: 0.7776049766718507\n",
      "\n",
      "n_estimators igual a 9\n",
      "Conjunto de entrenamiento: 0.9818464730290456\n",
      "Conjunto de prueba: 0.7667185069984448\n",
      "Conjunto de validación: 0.7807153965785381\n",
      "\n",
      "Mejor n_estimators: 9, con mejor score en validación: 0.7807153965785381\n"
     ]
    }
   ],
   "source": [
    "# Crearé un bucle para obtener hasta 100 árboles, probando de 10 en 10.\n",
    "best_score_random = 0\n",
    "best_est = 0\n",
    "for est in range(1, 10):\n",
    "    model_2_random_forest = RandomForestClassifier(random_state=12345, n_estimators=est)\n",
    "    model_2_random_forest.fit(features_train, target_train)\n",
    "    \n",
    "    train_score_random = model_2_random_forest.score(features_train, target_train)\n",
    "    test_score_random = model_2_random_forest.score(features_test, target_test)\n",
    "    validation_score_random = model_2_random_forest.score(features_valid, target_valid)\n",
    "    \n",
    "    print(\"n_estimators igual a\", est)\n",
    "    print(\"Conjunto de entrenamiento:\", train_score_random)\n",
    "    print(\"Conjunto de prueba:\", test_score_random)\n",
    "    print(\"Conjunto de validación:\", validation_score_random)\n",
    "    print()\n",
    "    \n",
    "    if validation_score_random > best_score_random:\n",
    "        best_score_random = validation_score_random  # Actualiza el mejor score\n",
    "        best_est = est  # Guarda el n_estimators asociado\n",
    "\n",
    "print(f\"Mejor n_estimators: {best_est}, con mejor score en validación: {best_score_random}\")"
   ]
  },
  {
   "cell_type": "markdown",
   "metadata": {},
   "source": []
  },
  {
   "cell_type": "markdown",
   "metadata": {},
   "source": [
    "HALLAZGOS:\n",
    "\n",
    "Para este modelo el mejor estimador es de 9:\n",
    "\n",
    "* Conjunto de prueba: 0.7667185069984448\n",
    "\n",
    "* Conjunto de validación: 0.7807153965785381"
   ]
  },
  {
   "cell_type": "markdown",
   "metadata": {},
   "source": [
    "### Logistic Regression"
   ]
  },
  {
   "cell_type": "code",
   "execution_count": 1408,
   "metadata": {},
   "outputs": [
    {
     "name": "stdout",
     "output_type": "stream",
     "text": [
      "Conjunto de entrenamiento: 0.7505186721991701\n",
      "Conjunto de prueba: 0.76049766718507\n",
      "Conjunto de validación: 0.7278382581648523\n",
      "\n"
     ]
    }
   ],
   "source": [
    "# Haré un modelo usando el parámetro solver 'liblinear'.\n",
    "model_3_logistic_regression = LogisticRegression(random_state=12345, solver='liblinear')\n",
    "model_3_logistic_regression.fit(features_train, target_train)\n",
    "    \n",
    "train_score_logistic = model_3_logistic_regression.score(features_train, target_train)\n",
    "test_score_logistic = model_3_logistic_regression.score(features_test, target_test)\n",
    "validation_score_logistic = model_3_logistic_regression.score(features_valid, target_valid)\n",
    "    \n",
    "print(\"Conjunto de entrenamiento:\", train_score_logistic)\n",
    "print(\"Conjunto de prueba:\", test_score_logistic)\n",
    "print(\"Conjunto de validación:\", validation_score_logistic)\n",
    "print()"
   ]
  },
  {
   "cell_type": "markdown",
   "metadata": {},
   "source": [
    "## Conclusiones"
   ]
  },
  {
   "cell_type": "markdown",
   "metadata": {},
   "source": [
    "Con base en los resultados, Random Forest resultó ser el mejor modelo para la tarea que estoy realizando ya que cumple con el umbral de exactitud de 0.75 y proporciona las mejores métricas de rendimiento en todos los conjuntos de datos.\n",
    "\n",
    "Sin embargo, realizaré una prueba de cordura para verificar que el modelo está funcionando correctamente."
   ]
  },
  {
   "cell_type": "markdown",
   "metadata": {},
   "source": [
    "## Prueba de Cordura"
   ]
  },
  {
   "cell_type": "code",
   "execution_count": 1409,
   "metadata": {},
   "outputs": [
    {
     "data": {
      "text/plain": [
       "array([0, 0, 0, 0, 1, 0, 0, 1, 0, 0, 0, 0, 0, 0, 0, 0, 0, 0, 0, 1, 1, 0,\n",
       "       0, 0, 0, 1, 1, 0, 0, 0, 0, 1, 0, 0, 0, 0, 0, 0, 0, 0, 0, 1, 1, 0,\n",
       "       0, 1, 0, 1, 0, 0, 1, 1, 0, 1, 0, 0, 1, 1, 0, 0, 0, 0, 1, 0, 0, 0,\n",
       "       0, 0, 0, 0, 0, 1, 0, 1, 0, 1, 0, 0, 0, 0, 0, 0, 0, 0, 0, 0, 0, 0,\n",
       "       0, 0, 1, 0, 0, 0, 0, 0, 0, 0, 0, 0, 1, 0, 0, 1, 0, 0, 1, 0, 1, 1,\n",
       "       0, 0, 0, 1, 0, 0, 0, 0, 0, 0, 0, 0, 0, 0, 0, 0, 0, 0, 0, 0, 1, 0,\n",
       "       0, 0, 0, 0, 0, 0, 0, 0, 0, 0, 0, 1, 0, 1, 0, 0, 1, 0, 0, 0, 0, 0,\n",
       "       1, 0, 0, 0, 0, 0, 0, 0, 0, 0, 0, 0, 0, 1, 0, 0, 1, 0, 1, 1, 1, 0,\n",
       "       0, 0, 0, 0, 1, 0, 1, 0, 0, 0, 1, 0, 1, 0, 0, 0, 0, 1, 0, 0, 0, 0,\n",
       "       0, 0, 0, 0, 0, 1, 1, 1, 0, 0, 0, 0, 0, 0, 0, 1, 1, 0, 0, 1, 0, 0,\n",
       "       1, 0, 0, 1, 0, 0, 0, 1, 0, 1, 1, 1, 0, 0, 1, 0, 0, 0, 0, 1, 0, 0,\n",
       "       0, 0, 0, 0, 1, 0, 0, 0, 1, 0, 1, 0, 0, 0, 0, 1, 0, 0, 0, 0, 0, 0,\n",
       "       0, 0, 0, 0, 0, 0, 1, 1, 0, 0, 1, 0, 0, 0, 0, 0, 0, 0, 0, 0, 0, 0,\n",
       "       0, 0, 0, 0, 0, 0, 0, 0, 1, 1, 0, 1, 1, 0, 0, 0, 0, 0, 0, 0, 0, 0,\n",
       "       0, 0, 0, 0, 0, 1, 0, 0, 0, 0, 0, 1, 0, 0, 0, 1, 0, 1, 0, 0, 0, 0,\n",
       "       0, 0, 0, 1, 1, 0, 0, 0, 0, 0, 0, 0, 0, 0, 0, 0, 0, 1, 0, 0, 0, 0,\n",
       "       0, 0, 0, 0, 0, 1, 0, 0, 0, 0, 0, 1, 0, 0, 1, 0, 0, 0, 0, 0, 0, 0,\n",
       "       1, 0, 0, 1, 0, 0, 1, 1, 0, 0, 0, 0, 1, 0, 1, 1, 0, 0, 1, 0, 0, 1,\n",
       "       0, 1, 1, 1, 0, 0, 0, 0, 1, 0, 0, 1, 1, 0, 0, 1, 0, 0, 0, 1, 0, 0,\n",
       "       0, 1, 0, 0, 0, 1, 0, 1, 0, 1, 0, 0, 0, 0, 0, 0, 0, 0, 0, 0, 1, 0,\n",
       "       0, 0, 0, 0, 1, 0, 0, 1, 0, 1, 0, 0, 0, 0, 0, 0, 0, 1, 1, 1, 0, 0,\n",
       "       0, 0, 1, 1, 0, 0, 1, 1, 0, 0, 0, 1, 1, 0, 0, 1, 0, 1, 0, 1, 0, 1,\n",
       "       0, 0, 0, 1, 0, 0, 0, 0, 1, 0, 0, 0, 0, 0, 0, 0, 0, 0, 0, 1, 0, 1,\n",
       "       1, 0, 1, 0, 1, 1, 1, 0, 0, 0, 0, 0, 0, 0, 0, 0, 0, 0, 0, 0, 0, 1,\n",
       "       0, 0, 0, 1, 1, 1, 0, 1, 0, 1, 0, 1, 0, 1, 0, 0, 0, 0, 1, 0, 1, 0,\n",
       "       0, 0, 0, 0, 0, 0, 0, 0, 0, 1, 0, 0, 0, 1, 0, 0, 0, 0, 1, 0, 0, 0,\n",
       "       1, 1, 0, 1, 1, 0, 1, 1, 0, 1, 1, 0, 1, 0, 0, 1, 0, 0, 0, 0, 0, 0,\n",
       "       0, 1, 0, 1, 0, 0, 0, 0, 0, 0, 0, 0, 0, 0, 0, 0, 0, 0, 0, 0, 0, 1,\n",
       "       0, 0, 0, 0, 0, 0, 0, 1, 1, 0, 0, 1, 0, 0, 1, 0, 0, 1, 0, 0, 0, 0,\n",
       "       0, 0, 0, 1, 0])"
      ]
     },
     "execution_count": 1409,
     "metadata": {},
     "output_type": "execute_result"
    }
   ],
   "source": [
    "# Haré predicciones en el conjunto de prueba\n",
    "predictions = model_2_random_forest.predict(features_test)\n",
    "predictions"
   ]
  },
  {
   "cell_type": "code",
   "execution_count": 1410,
   "metadata": {},
   "outputs": [
    {
     "name": "stdout",
     "output_type": "stream",
     "text": [
      "Distribución de predicciones: {np.int64(0): np.int64(487), np.int64(1): np.int64(156)}\n"
     ]
    }
   ],
   "source": [
    "# Evaluaré la distribución de dichas predicciones\n",
    "unique, counts = np.unique(predictions, return_counts=True)\n",
    "distribution = dict(zip(unique, counts))\n",
    "print(\"Distribución de predicciones:\", distribution)"
   ]
  },
  {
   "cell_type": "markdown",
   "metadata": {},
   "source": [
    "La predicción del modelo es de 487 instancias como No Ultra (clase 0) y 156 instancias como Ultra (clase 1).\n",
    "\n",
    "Esto indica que hay un sesgo hacia la clase No Ultra, lo cual puede ser un reflejo de la distribución de las clases en los datos de entrenamiento."
   ]
  },
  {
   "cell_type": "code",
   "execution_count": 1411,
   "metadata": {},
   "outputs": [
    {
     "name": "stdout",
     "output_type": "stream",
     "text": [
      "Matriz de confusión:\n",
      " [[392  55]\n",
      " [ 95 101]]\n"
     ]
    }
   ],
   "source": [
    "# Calcularé la matriz de confusión\n",
    "conf_matrix = confusion_matrix(target_test, predictions)\n",
    "print(\"Matriz de confusión:\\n\", conf_matrix)"
   ]
  },
  {
   "cell_type": "markdown",
   "metadata": {},
   "source": [
    "La matriz de confusión indicó que hay:\n",
    "\n",
    "    * 392 verdaderos negativos (correctamente clasificados como Smart).\n",
    "  \n",
    "    * 55 falsos positivos (incorrectamente clasificados como Ultra cuando son Smart).\n",
    "  \n",
    "    * 95 falsos negativos (incorrectamente clasificados como Smart cuando son Ultra).\n",
    "\n",
    "    * 101 verdaderos positivos (correctamente clasificados como Ultra).\n"
   ]
  },
  {
   "cell_type": "code",
   "execution_count": 1412,
   "metadata": {},
   "outputs": [
    {
     "data": {
      "image/png": "[encoded data removed]",
      "text/plain": [
       "<Figure size 800x600 with 2 Axes>"
      ]
     },
     "metadata": {},
     "output_type": "display_data"
    }
   ],
   "source": [
    "# Visualizaré la matriz de confusión\n",
    "plt.figure(figsize=(8, 6))\n",
    "sns.heatmap(conf_matrix, annot=True, fmt='d', cmap='Oranges', xticklabels=['Smart', 'Ultra'], yticklabels=['Smart', 'Ultra'])\n",
    "plt.xlabel('Predicción')\n",
    "plt.ylabel('Realidad')\n",
    "plt.title('Matriz de Confusión')\n",
    "plt.show()"
   ]
  },
  {
   "cell_type": "code",
   "execution_count": 1413,
   "metadata": {},
   "outputs": [
    {
     "name": "stdout",
     "output_type": "stream",
     "text": [
      "Reporte de clasificación:\n",
      "               precision    recall  f1-score   support\n",
      "\n",
      "       Smart       0.80      0.88      0.84       447\n",
      "       Ultra       0.65      0.52      0.57       196\n",
      "\n",
      "    accuracy                           0.77       643\n",
      "   macro avg       0.73      0.70      0.71       643\n",
      "weighted avg       0.76      0.77      0.76       643\n",
      "\n"
     ]
    }
   ],
   "source": [
    "# Calcularé el reporte de clasificación\n",
    "report = classification_report(target_test, predictions, target_names=['Smart', 'Ultra'])\n",
    "print(\"Reporte de clasificación:\\n\", report)"
   ]
  },
  {
   "cell_type": "markdown",
   "metadata": {},
   "source": [
    "\n",
    "* Precision:\n",
    "    - La precisión para Smart es 0.8, es decir que el 80% de las instancias predichas como Smart eran realmente Smart.\n",
    "    - La precisión para Ultra es 0.65, es decir que el 65% de las instancias predichas como Ultra eran realmente Ultra.\n",
    "\n",
    "* Recall:\n",
    "    - El recall para Smart es 0.88, lo que indica que el modelo identificó correctamente el 88% de las instancias de Smart.\n",
    "    - El recall para Ultra es 0.52, lo que indica que el modelo solo identificó el 52% de las instancias de Ultra.\n",
    "\n",
    "* F1-Score:\n",
    "    - El F1-score combina precisión y recall en una sola métrica. Para Smart es 0.84, y para Ultra es 0.57. Esto sugiere que el modelo tiene un buen desempeño en la clase Smart, pero el rendimiento en la clase Ultra es más bajo.\n",
    "\n",
    "* Accuracy:\n",
    "    - La precisión general del modelo es 0.77, mayor que el umbral de 0.75 que se estableció."
   ]
  },
  {
   "cell_type": "markdown",
   "metadata": {},
   "source": [
    "### Conclusión de Prueba de Cordura"
   ]
  },
  {
   "cell_type": "markdown",
   "metadata": {},
   "source": [
    "1. Desbalance de clases: El modelo parece tener un buen rendimiento en la clase Smart, pero lucha con la clase Ultra. Esto podría ser un indicativo de un desbalance en los datos.\n",
    "\n",
    "2. Ajuste de Hiperparámetros: Podría explorar otros hiperparámetros en este modelo, para mejorar la clasificación de la clase Ultra."
   ]
  }
 ],
 "metadata": {
  "kernelspec": {
   "display_name": ".venv",
   "language": "python",
   "name": "python3"
  },
  "language_info": {
   "codemirror_mode": {
    "name": "ipython",
    "version": 3
   },
   "file_extension": ".py",
   "mimetype": "text/x-python",
   "name": "python",
   "nbconvert_exporter": "python",
   "pygments_lexer": "ipython3",
   "version": "3.12.4"
  }
 },
 "nbformat": 4,
 "nbformat_minor": 2
}
